{
 "cells": [
  {
   "cell_type": "markdown",
   "metadata": {},
   "source": [
    "## Design the Lexical Analyzer to identify the literals, variables and operators from the given expression."
   ]
  },
  {
   "cell_type": "code",
   "execution_count": 16,
   "metadata": {},
   "outputs": [
    {
     "name": "stdout",
     "output_type": "stream",
     "text": [
      "--------------Lexical Analyzer--------------\n",
      "Enter your String: 5a + 6b = 8d * 7c\n",
      "\n",
      "The length of String is : 11\n",
      "\n",
      "Operators:\n",
      "\tOperator1: + \n",
      "\tOperator2: = \n",
      "\tOperator3: * \n",
      "\n",
      "Variables\n",
      "\tVariable1: a \n",
      "\tVariable2: b \n",
      "\tVariable3: d \n",
      "\tVariable4: c \n",
      "\n",
      "Literals\n",
      "\tLiteral1: 5 \n",
      "\tLiteral2: 6 \n",
      "\tLiteral3: 8 \n",
      "\tLiteral4: 7 \n"
     ]
    }
   ],
   "source": [
    "#Importing Module of Regular Expression\n",
    "import re\n",
    "\n",
    "#Initialize Important Variables and Lists\n",
    "count = 0\n",
    "counter = 1\n",
    "ops = ['=','+','-','/','*','%']\n",
    "operators = []\n",
    "variables = []\n",
    "literals = []\n",
    "\n",
    "#getting input from user\n",
    "print(\"--------------Lexical Analyzer--------------\")\n",
    "exp = input(\"Enter your String: \")\n",
    "\n",
    "#Counting the length of given string except spaces\n",
    "for i in exp:\n",
    "    if i == \" \":\n",
    "        continue\n",
    "    else:\n",
    "        count += 1\n",
    "\n",
    "#Adding all operators in operator list\n",
    "for op in exp:\n",
    "    if op in ops:\n",
    "        operators.append(op)\n",
    "\n",
    "#Adding all variables in variable list through regular expression\n",
    "variables = re.findall('[a-zA-Z]', exp)\n",
    "       \n",
    "#Now we separate literals from the given string\n",
    "#In this step we remove all variables through regular expression\n",
    "delalpha = re.split('[a-z]',exp)\n",
    "\n",
    "st = \"\"\n",
    "noalpha = st.join(delalpha)\n",
    "\n",
    "#In this step we remove all the operators from string\n",
    "intstr = re.split('[+*=/%-]',noalpha)\n",
    "\n",
    "#In this step we are removing extra spaces and adding element in literals list\n",
    "for alp in intstr:\n",
    "    intstr = alp.strip()\n",
    "    if intstr.isdigit():\n",
    "        literals.append(intstr)\n",
    "\n",
    "print(\"\\nThe length of String is :\",count)\n",
    "\n",
    "#Now we are printing all the Operators\n",
    "print(\"\\nOperators:\")\n",
    "for m in operators:\n",
    "    print(\"\\tOperator{}: {} \".format(counter,m))\n",
    "    counter += 1\n",
    "\n",
    "#Now we are printing all the Variables\n",
    "counter = 1\n",
    "print(\"\\nVariables\")\n",
    "for n in variables:\n",
    "    print(\"\\tVariable{}: {} \".format(counter,n))\n",
    "    counter += 1\n",
    "\n",
    "#Now we are printing all the Literals\n",
    "counter = 1\n",
    "print(\"\\nLiterals\")\n",
    "for o in literals:\n",
    "    print(\"\\tLiteral{}: {} \".format(counter,o))\n",
    "    counter += 1"
   ]
  },
  {
   "cell_type": "code",
   "execution_count": null,
   "metadata": {},
   "outputs": [],
   "source": []
  },
  {
   "cell_type": "code",
   "execution_count": null,
   "metadata": {},
   "outputs": [],
   "source": []
  }
 ],
 "metadata": {
  "kernelspec": {
   "display_name": "Python 3",
   "language": "python",
   "name": "python3"
  },
  "language_info": {
   "codemirror_mode": {
    "name": "ipython",
    "version": 3
   },
   "file_extension": ".py",
   "mimetype": "text/x-python",
   "name": "python",
   "nbconvert_exporter": "python",
   "pygments_lexer": "ipython3",
   "version": "3.7.4"
  }
 },
 "nbformat": 4,
 "nbformat_minor": 2
}
